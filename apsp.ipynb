{
 "cells": [
  {
   "cell_type": "code",
   "execution_count": 5,
   "metadata": {},
   "outputs": [],
   "source": [
    "import numpy as np\n",
    "import networkx as nx"
   ]
  },
  {
   "cell_type": "code",
   "execution_count": 6,
   "metadata": {},
   "outputs": [],
   "source": [
    "g1 = nx.duplication_divergence_graph(n=4, p=0.4, seed=123)\n",
    "g2= nx.duplication_divergence_graph(n=5, p=0.4, seed=123)"
   ]
  },
  {
   "cell_type": "code",
   "execution_count": 19,
   "metadata": {},
   "outputs": [],
   "source": [
    "def extend_distance_matrix(distances:np.ndarray, graph:nx.Graph, n_new_nodes:int):\n",
    "    \"\"\"\n",
    "    Extend the distance matrix by creating n_new_nodes rows and columns and fill them with the distances between the new nodes and the existing nodes.\n",
    "    \"\"\"\n",
    "    # Create a new distance matrix\n",
    "    new_distances = np.zeros((distances.shape[0] + n_new_nodes, distances.shape[1] + n_new_nodes))\n",
    "    # Fill the new distance matrix with the old distances\n",
    "    new_distances[:distances.shape[0], :distances.shape[1]] = distances\n",
    "    # Fill the new distance matrix with the distances between the new nodes and the existing nodes\n",
    "    for i in range(new_distances.shape[0]):\n",
    "        for j in range(distances.shape[1], new_distances.shape[1]):\n",
    "            new_distances[i, j] = nx.dijkstra_path_length(graph, i, j)\n",
    "            new_distances[j, i] = nx.dijkstra_path_length(graph, i, j)\n",
    "    return new_distances\n"
   ]
  },
  {
   "cell_type": "code",
   "execution_count": 20,
   "metadata": {},
   "outputs": [
    {
     "data": {
      "text/plain": [
       "array([[0., 1., 2., 1., 2.],\n",
       "       [1., 0., 1., 2., 1.],\n",
       "       [2., 1., 0., 3., 2.],\n",
       "       [1., 2., 3., 0., 3.],\n",
       "       [2., 1., 2., 3., 0.]])"
      ]
     },
     "execution_count": 20,
     "metadata": {},
     "output_type": "execute_result"
    }
   ],
   "source": [
    "dist1 = nx.floyd_warshall_numpy(g1)\n",
    "dist2 = nx.floyd_warshall_numpy(g2)\n",
    "extend_distance_matrix(dist1, g2, n_new_nodes=1)"
   ]
  },
  {
   "cell_type": "code",
   "execution_count": 22,
   "metadata": {},
   "outputs": [
    {
     "data": {
      "text/plain": [
       "array([[ True,  True,  True,  True,  True],\n",
       "       [ True,  True,  True,  True,  True],\n",
       "       [ True,  True,  True,  True,  True],\n",
       "       [ True,  True,  True,  True,  True],\n",
       "       [ True,  True,  True,  True,  True]])"
      ]
     },
     "execution_count": 22,
     "metadata": {},
     "output_type": "execute_result"
    }
   ],
   "source": [
    "dist2 == extend_distance_matrix(dist1, g2, n_new_nodes=1)"
   ]
  },
  {
   "cell_type": "code",
   "execution_count": null,
   "metadata": {},
   "outputs": [],
   "source": [
    "# \"\"\"Add edges from new neuron to existing neighbors.\"\"\"\n",
    "for i in range(dist1.shape[0]):\n",
    "    "
   ]
  }
 ],
 "metadata": {
  "interpreter": {
   "hash": "56336b9fee51fc94492b526f7cd67aa477a302ec0b688a5c68a2b91bc4ffec13"
  },
  "kernelspec": {
   "display_name": "Python 3.9.10 ('py39_ds2lsom')",
   "language": "python",
   "name": "python3"
  },
  "language_info": {
   "codemirror_mode": {
    "name": "ipython",
    "version": 3
   },
   "file_extension": ".py",
   "mimetype": "text/x-python",
   "name": "python",
   "nbconvert_exporter": "python",
   "pygments_lexer": "ipython3",
   "version": "3.9.10"
  },
  "orig_nbformat": 4
 },
 "nbformat": 4,
 "nbformat_minor": 2
}
