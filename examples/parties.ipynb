{
 "cells": [
  {
   "cell_type": "code",
   "execution_count": 1,
   "metadata": {},
   "outputs": [],
   "source": [
    "import matplotlib.pyplot as plt\n",
    "import numpy as np\n",
    "import pandas as pd\n",
    "import seaborn as sns\n",
    "import seaborn.objects as so\n",
    "\n",
    "from dbgsom.dbgsom_ import DBGSOM"
   ]
  },
  {
   "attachments": {},
   "cell_type": "markdown",
   "metadata": {},
   "source": [
    "## Read and format file"
   ]
  },
  {
   "cell_type": "code",
   "execution_count": 2,
   "metadata": {},
   "outputs": [],
   "source": [
    "dataset = pd.read_csv(\"wahlomat_dataset.csv\")\n",
    "dataset = dataset.replace({\"stimme zu\": 1, \"neutral\": 0, \"stimme nicht zu\": -1})\n",
    "\n",
    "parties = dataset.pivot(\n",
    "    index=\"Partei: Kurzbezeichnung\", columns=\"These: Titel\", values=\"Position: Position\"\n",
    ")\n",
    "\n",
    "statements = dataset.pivot(\n",
    "    index=\"These: Titel\", columns=\"Partei: Kurzbezeichnung\", values=\"Position: Position\"\n",
    ")"
   ]
  },
  {
   "cell_type": "code",
   "execution_count": 50,
   "metadata": {},
   "outputs": [
    {
     "name": "stderr",
     "output_type": "stream",
     "text": [
      " 39%|███▉      | 156/400 [00:02<00:03, 72.95 epochs/s]\n"
     ]
    },
    {
     "data": {
      "text/html": [
       "<style>#sk-container-id-8 {color: black;background-color: white;}#sk-container-id-8 pre{padding: 0;}#sk-container-id-8 div.sk-toggleable {background-color: white;}#sk-container-id-8 label.sk-toggleable__label {cursor: pointer;display: block;width: 100%;margin-bottom: 0;padding: 0.3em;box-sizing: border-box;text-align: center;}#sk-container-id-8 label.sk-toggleable__label-arrow:before {content: \"▸\";float: left;margin-right: 0.25em;color: #696969;}#sk-container-id-8 label.sk-toggleable__label-arrow:hover:before {color: black;}#sk-container-id-8 div.sk-estimator:hover label.sk-toggleable__label-arrow:before {color: black;}#sk-container-id-8 div.sk-toggleable__content {max-height: 0;max-width: 0;overflow: hidden;text-align: left;background-color: #f0f8ff;}#sk-container-id-8 div.sk-toggleable__content pre {margin: 0.2em;color: black;border-radius: 0.25em;background-color: #f0f8ff;}#sk-container-id-8 input.sk-toggleable__control:checked~div.sk-toggleable__content {max-height: 200px;max-width: 100%;overflow: auto;}#sk-container-id-8 input.sk-toggleable__control:checked~label.sk-toggleable__label-arrow:before {content: \"▾\";}#sk-container-id-8 div.sk-estimator input.sk-toggleable__control:checked~label.sk-toggleable__label {background-color: #d4ebff;}#sk-container-id-8 div.sk-label input.sk-toggleable__control:checked~label.sk-toggleable__label {background-color: #d4ebff;}#sk-container-id-8 input.sk-hidden--visually {border: 0;clip: rect(1px 1px 1px 1px);clip: rect(1px, 1px, 1px, 1px);height: 1px;margin: -1px;overflow: hidden;padding: 0;position: absolute;width: 1px;}#sk-container-id-8 div.sk-estimator {font-family: monospace;background-color: #f0f8ff;border: 1px dotted black;border-radius: 0.25em;box-sizing: border-box;margin-bottom: 0.5em;}#sk-container-id-8 div.sk-estimator:hover {background-color: #d4ebff;}#sk-container-id-8 div.sk-parallel-item::after {content: \"\";width: 100%;border-bottom: 1px solid gray;flex-grow: 1;}#sk-container-id-8 div.sk-label:hover label.sk-toggleable__label {background-color: #d4ebff;}#sk-container-id-8 div.sk-serial::before {content: \"\";position: absolute;border-left: 1px solid gray;box-sizing: border-box;top: 0;bottom: 0;left: 50%;z-index: 0;}#sk-container-id-8 div.sk-serial {display: flex;flex-direction: column;align-items: center;background-color: white;padding-right: 0.2em;padding-left: 0.2em;position: relative;}#sk-container-id-8 div.sk-item {position: relative;z-index: 1;}#sk-container-id-8 div.sk-parallel {display: flex;align-items: stretch;justify-content: center;background-color: white;position: relative;}#sk-container-id-8 div.sk-item::before, #sk-container-id-8 div.sk-parallel-item::before {content: \"\";position: absolute;border-left: 1px solid gray;box-sizing: border-box;top: 0;bottom: 0;left: 50%;z-index: -1;}#sk-container-id-8 div.sk-parallel-item {display: flex;flex-direction: column;z-index: 1;position: relative;background-color: white;}#sk-container-id-8 div.sk-parallel-item:first-child::after {align-self: flex-end;width: 50%;}#sk-container-id-8 div.sk-parallel-item:last-child::after {align-self: flex-start;width: 50%;}#sk-container-id-8 div.sk-parallel-item:only-child::after {width: 0;}#sk-container-id-8 div.sk-dashed-wrapped {border: 1px dashed gray;margin: 0 0.4em 0.5em 0.4em;box-sizing: border-box;padding-bottom: 0.4em;background-color: white;}#sk-container-id-8 div.sk-label label {font-family: monospace;font-weight: bold;display: inline-block;line-height: 1.2em;}#sk-container-id-8 div.sk-label-container {text-align: center;}#sk-container-id-8 div.sk-container {/* jupyter's `normalize.less` sets `[hidden] { display: none; }` but bootstrap.min.css set `[hidden] { display: none !important; }` so we also need the `!important` here to be able to override the default hidden behavior on the sphinx rendered scikit-learn.org. See: https://github.com/scikit-learn/scikit-learn/issues/21755 */display: inline-block !important;position: relative;}#sk-container-id-8 div.sk-text-repr-fallback {display: none;}</style><div id=\"sk-container-id-8\" class=\"sk-top-container\"><div class=\"sk-text-repr-fallback\"><pre>DBGSOM(max_epochs=400, metric=&#x27;cosine&#x27;, random_state=42, sigma_end=0.1,\n",
       "       spreading_factor=0.995)</pre><b>In a Jupyter environment, please rerun this cell to show the HTML representation or trust the notebook. <br />On GitHub, the HTML representation is unable to render, please try loading this page with nbviewer.org.</b></div><div class=\"sk-container\" hidden><div class=\"sk-item\"><div class=\"sk-estimator sk-toggleable\"><input class=\"sk-toggleable__control sk-hidden--visually\" id=\"sk-estimator-id-8\" type=\"checkbox\" checked><label for=\"sk-estimator-id-8\" class=\"sk-toggleable__label sk-toggleable__label-arrow\">DBGSOM</label><div class=\"sk-toggleable__content\"><pre>DBGSOM(max_epochs=400, metric=&#x27;cosine&#x27;, random_state=42, sigma_end=0.1,\n",
       "       spreading_factor=0.995)</pre></div></div></div></div></div>"
      ],
      "text/plain": [
       "DBGSOM(max_epochs=400, metric='cosine', random_state=42, sigma_end=0.1,\n",
       "       spreading_factor=0.995)"
      ]
     },
     "execution_count": 50,
     "metadata": {},
     "output_type": "execute_result"
    }
   ],
   "source": [
    "som = DBGSOM(\n",
    "    spreading_factor=0.995,\n",
    "    max_epochs=400,\n",
    "    metric=\"cosine\",\n",
    "    random_state=42,\n",
    "    sigma_end=0.1,\n",
    ")\n",
    "som.fit(X=parties)"
   ]
  },
  {
   "cell_type": "code",
   "execution_count": 51,
   "metadata": {},
   "outputs": [],
   "source": [
    "# plt.figure(figsize=(10, 10))\n",
    "# labels = ((dict(som.som_.nodes.data(\"label\")).values()))\n",
    "# p = so.Plot(\n",
    "#     x=np.array(som.neurons_)[labels, 0],\n",
    "#     y=np.array(som.neurons_)[labels, 1],\n",
    "#     text=parties.index\n",
    "# ).add(so.Text(\n",
    "#     # color=[[colors[partei] for partei in parteien.index]]\n",
    "#     ))\n",
    "# p.save(loc=\"parties.png\")"
   ]
  },
  {
   "cell_type": "code",
   "execution_count": 53,
   "metadata": {},
   "outputs": [
    {
     "ename": "AttributeError",
     "evalue": "'DBGSOM' object has no attribute 'classes_'",
     "output_type": "error",
     "traceback": [
      "\u001b[1;31m---------------------------------------------------------------------------\u001b[0m",
      "\u001b[1;31mAttributeError\u001b[0m                            Traceback (most recent call last)",
      "Cell \u001b[1;32mIn[53], line 7\u001b[0m\n\u001b[0;32m      1\u001b[0m sns\u001b[39m.\u001b[39mscatterplot(\n\u001b[0;32m      2\u001b[0m     x\u001b[39m=\u001b[39mnp\u001b[39m.\u001b[39marray(som\u001b[39m.\u001b[39mneurons_)[:, \u001b[39m0\u001b[39m],\n\u001b[0;32m      3\u001b[0m     y\u001b[39m=\u001b[39mnp\u001b[39m.\u001b[39marray(som\u001b[39m.\u001b[39mneurons_)[:, \u001b[39m1\u001b[39m],\n\u001b[0;32m      4\u001b[0m     )\n\u001b[0;32m      6\u001b[0m \u001b[39mfor\u001b[39;00m i, party \u001b[39min\u001b[39;00m \u001b[39menumerate\u001b[39m(parties\u001b[39m.\u001b[39mindex):\n\u001b[1;32m----> 7\u001b[0m     plt\u001b[39m.\u001b[39mtext(x\u001b[39m=\u001b[39mnp\u001b[39m.\u001b[39marray(som\u001b[39m.\u001b[39mneurons_)[i, \u001b[39m0\u001b[39m], y\u001b[39m=\u001b[39mnp\u001b[39m.\u001b[39marray(som\u001b[39m.\u001b[39mneurons_)[i, \u001b[39m1\u001b[39m], s\u001b[39m=\u001b[39msom\u001b[39m.\u001b[39;49mpredict(parties), rotation\u001b[39m=\u001b[39m\u001b[39m45\u001b[39m)\n",
      "File \u001b[1;32mF:\\Dokumente\\git\\DBGSOM\\dbgsom\\dbgsom_.py:282\u001b[0m, in \u001b[0;36mDBGSOM.predict\u001b[1;34m(self, X)\u001b[0m\n\u001b[0;32m    276\u001b[0m             label \u001b[39m=\u001b[39m \u001b[39mself\u001b[39m\u001b[39m.\u001b[39msom_\u001b[39m.\u001b[39mnodes[\u001b[39mself\u001b[39m\u001b[39m.\u001b[39mneurons_[bmu]][\u001b[39m\"\u001b[39m\u001b[39msom\u001b[39m\u001b[39m\"\u001b[39m]\u001b[39m.\u001b[39mpredict(\n\u001b[0;32m    277\u001b[0m                 sample\u001b[39m.\u001b[39mreshape(\u001b[39m1\u001b[39m, \u001b[39m-\u001b[39m\u001b[39m1\u001b[39m)\n\u001b[0;32m    278\u001b[0m             )[\u001b[39m0\u001b[39m]\n\u001b[0;32m    280\u001b[0m         labels\u001b[39m.\u001b[39mappend(label)\n\u001b[1;32m--> 282\u001b[0m \u001b[39mreturn\u001b[39;00m \u001b[39mself\u001b[39;49m\u001b[39m.\u001b[39;49mclasses_[labels]\n",
      "\u001b[1;31mAttributeError\u001b[0m: 'DBGSOM' object has no attribute 'classes_'"
     ]
    },
    {
     "data": {
      "image/png": "[encoded data removed]",
      "text/plain": [
       "<Figure size 640x480 with 1 Axes>"
      ]
     },
     "metadata": {},
     "output_type": "display_data"
    }
   ],
   "source": [
    "sns.scatterplot(\n",
    "    x=np.array(som.neurons_)[:, 0],\n",
    "    y=np.array(som.neurons_)[:, 1],\n",
    ")\n",
    "\n",
    "for i, party in enumerate(parties.index):\n",
    "    plt.text(\n",
    "        x=np.array(som.neurons_)[i, 0],\n",
    "        y=np.array(som.neurons_)[i, 1],\n",
    "        s=som.predict(parties),\n",
    "        rotation=45,\n",
    "    )"
   ]
  },
  {
   "attachments": {},
   "cell_type": "markdown",
   "metadata": {},
   "source": [
    "### Colors for parties\n",
    "(WiP)"
   ]
  },
  {
   "cell_type": "code",
   "execution_count": null,
   "metadata": {},
   "outputs": [],
   "source": [
    "from collections import defaultdict\n",
    "\n",
    "\n",
    "def return_grey():\n",
    "    return \"grey\"\n",
    "\n",
    "\n",
    "colors = defaultdict(return_grey)"
   ]
  },
  {
   "cell_type": "code",
   "execution_count": null,
   "metadata": {},
   "outputs": [],
   "source": [
    "colors.update(\n",
    "    {\n",
    "        \"GRÜNE\": \"green\",\n",
    "        \"SPD\": \"red\",\n",
    "        \"DIE LINKE\": \"red\",\n",
    "        \"FPD\": \"yellow\",\n",
    "        \"CDU/CSU\": \"black\",\n",
    "        \"AfD\": \"blue\",\n",
    "    }\n",
    ")"
   ]
  }
 ],
 "metadata": {
  "kernelspec": {
   "display_name": "py39_dbgsom",
   "language": "python",
   "name": "python3"
  },
  "language_info": {
   "codemirror_mode": {
    "name": "ipython",
    "version": 3
   },
   "file_extension": ".py",
   "mimetype": "text/x-python",
   "name": "python",
   "nbconvert_exporter": "python",
   "pygments_lexer": "ipython3",
   "version": "3.10.9"
  },
  "orig_nbformat": 4
 },
 "nbformat": 4,
 "nbformat_minor": 2
}
